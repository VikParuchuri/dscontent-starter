{
 "cells": [
  {
   "cell_type": "markdown",
   "metadata": {},
   "source": [
    "<!-- mission_number=1 file_list=['test.txt', 'crime_rates.csv', 'titanic_survival.csv'] mode=\"multiscreen\" -->\n",
    "\n",
    "# New Mission\n",
    "## This is a new mission.  Edit these fields to customize the display.\n",
    "### Author Name Here"
   ]
  },
  {
   "cell_type": "markdown",
   "metadata": {},
   "source": [
    "<!-- type=\"video\" -->\n",
    "\n",
    "# Sample Introduction\n",
    "\n",
    "http://youtu.be/kDDiR7TDGw0"
   ]
  },
  {
   "cell_type": "markdown",
   "metadata": {},
   "source": [
    "<!-- type=\"code\" -->\n",
    "\n",
    "# Intro Code\n",
    "\n",
    "This text is used to introduce the screen, and describe any background\n",
    "information needed.\n",
    "\n",
    "This block is written in [Markdown](http://daringfireball.net/projects/markdown/syntax).  Here's a [cheatsheet](https://github.com/adam-p/markdown-here/wiki/Markdown-Cheatsheet).\n",
    "\n",
    "Using backticks will let you write inline variable names like this: `b` is a\n",
    "variable.\n",
    "\n",
    "Try to do this for all variables and function names -- it makes it easier for\n",
    "the reader.\n",
    "\n",
    "Backticks with \"python\" will let you add code blocks. Here's an example:\n",
    "\n",
    "```python  \n",
    "numpy_array[0,0]\n",
    "numpy_array[:,0]\n",
    "numpy_array[0,:]\n",
    "```\n",
    "You can add inline math with dollar signs, like this: $$y=mx+b$$.\n",
    "\n",
    "## Instructions\n",
    "\n",
    "In this area, you describe what needs to be done to solve the problem and get\n",
    "the right answer.  This is in markdown.\n",
    "\n",
    "Using action-oriented, direct language is best.\n",
    "\n",
    "Make sure to put backticks around any variables or values you mention.\n",
    "\n",
    "Example: Assign `20` to the variable `c`.\n",
    "\n",
    "## Hint\n",
    "\n",
    "This is where you put a hint to help people who are struggling.  This is written in markdown.\n",
    "\n",
    "There is a \"Hint\" button on-screen that people can click to see this."
   ]
  },
  {
   "cell_type": "code",
   "execution_count": null,
   "metadata": {
    "collapsed": true
   },
   "outputs": [],
   "source": [
    "## Display\n",
    "\n",
    "# This is the area where code is displayed.\n",
    "# This is all python code, and will be executed.\n",
    "# This code and its results will be shown to the user when the screen is first loaded.\n",
    "# You can add comments in here to clarify code, imports, and any code you want.\n",
    "b = 10\n",
    "a = b * 20\n",
    "\n",
    "# Indent 4 spaces when you are making a loop or other indented python block.\n",
    "for i in [0, 1, 2]:\n",
    "    print(i)\n",
    "    if i == 0:\n",
    "        print(\"First item!\")\n",
    "\n",
    "# You can also add in plots.\n",
    "import matplotlib.pyplot as plt\n",
    "day_numbers = [1,2,3,4,5,6,7]\n",
    "cars_in_parking_lot = [5,6,4,2,1,7,8]\n",
    "\n",
    "# You always have to follow plotting commands with plt.show(), otherwise the plots won't show up.\n",
    "plt.plot(day_numbers, cars_in_parking_lot)\n",
    "plt.show()\n",
    "\n",
    "## Answer\n",
    "\n",
    "# This space contains the python code to get the screen correct.\n",
    "# This code runs after all the code in Display.\n",
    "# This code is concatened to the end of Display and run to generate the \"right\" answers.\n",
    "# You'll put all the variables you want to check against the \"right\" answers in the \"Check vars\" section below.\n",
    "# These are the variables that people doing this screen will need to assign to, or manipulate.\n",
    "c = 20\n",
    "\n",
    "## Check vars\n",
    "\n",
    "['c']"
   ]
  },
  {
   "cell_type": "markdown",
   "metadata": {},
   "source": [
    "<!-- type=\"code\" -->\n",
    "\n",
    "# Example 1\n",
    "\n",
    "We can also make plots using dataquest.\n",
    "\n",
    "## Instructions\n",
    "\n",
    "Plot a histogram of the `\"age\"` column in `titanic_survival`.\n",
    "\n",
    "Add in a blue line for the median.\n",
    "\n",
    "Add in a red line for the mean.\n",
    "\n",
    "## Hint\n",
    "\n",
    "The `plt.hist()` function will make a histogram.\n",
    "\n",
    "The `plt.axvline()` function will add a line to the plt.`"
   ]
  },
  {
   "cell_type": "code",
   "execution_count": null,
   "metadata": {
    "collapsed": true
   },
   "outputs": [],
   "source": [
    "## Initial\n",
    "\n",
    "# This is code that will be executed before the rest.  It won't be visible to the student.\n",
    "# Initial code is carried between screens, so this code will be run before the display code in subsequent screens.\n",
    "import pandas\n",
    "f = \"titanic_survival.csv\"\n",
    "data = pandas.read_csv(f)\n",
    "titanic_survival = data.dropna(subset=[\"age\", \"sex\"])\n",
    "    \n",
    "## Display\n",
    "\n",
    "# The cleaned up data has been loaded into the titanic_survival variable\n",
    "import matplotlib.pyplot as plt\n",
    "import numpy\n",
    "\n",
    "## Answer\n",
    "\n",
    "plt.hist(titanic_survival[\"age\"])\n",
    "plt.axvline(numpy.median(titanic_survival[\"age\"]), color=\"b\")\n",
    "plt.axvline(titanic_survival[\"age\"].mean(), color=\"r\")\n",
    "plt.show()\n",
    "# Note:  if you want to check if a plot in your answer is correct, you need to add a check_var called dq_plotX, where X is the position (starting with 1) of the plot in the \"correct\" code (initial display plus answer)\n",
    "\n",
    "## Check vars\n",
    "\n",
    "['dq_plot1']"
   ]
  },
  {
   "cell_type": "markdown",
   "metadata": {},
   "source": [
    "<!-- type=\"code\" -->\n",
    "\n",
    "# Example 2\n",
    "\n",
    "We can also open, read, and write to resource files.\n",
    "\n",
    "## Instructions\n",
    "\n",
    "Open the file called `\"crime_rates.csv\"` and store it in `b`.\n",
    "\n",
    "## Hint\n",
    "\n",
    "Use the open function along with 'r' to open a file in reading mode."
   ]
  },
  {
   "cell_type": "code",
   "execution_count": null,
   "metadata": {
    "collapsed": true
   },
   "outputs": [],
   "source": [
    "## Display\n",
    "\n",
    "a = open(\"test.txt\", \"r\")\n",
    "print(type(a))\n",
    "\n",
    "## Answer\n",
    "\n",
    "b = open('crime_rates.csv', 'r')\n",
    "\n",
    "## Check vars\n",
    "\n",
    "['b']\n",
    "\n",
    "## Check code run\n",
    "\n",
    "\"\"\"\n",
    "Sometimes, for whatever reason, you want to override the default checker behavior.\n",
    "This function lets you do it, but it should be used very sparingly -- the defaults cover 95% of cases.\n",
    "This should return True and an (empty) hint if the answer is correct, and False and a hint if not.\n",
    "Any variable specified in the \"Check vars\" section is automatically injected into this function.\n",
    "\"\"\"\n",
    "if b is not None:\n",
    "  return True, \"\"\n",
    "return False, \"\""
   ]
  },
  {
   "cell_type": "markdown",
   "metadata": {},
   "source": [
    "<!-- type=\"code\" -->\n",
    "\n",
    "# Example 3\n",
    "\n",
    "In DataQuest, the stdout will be shown to the student.  Anything resulting from `print()` will be displayed.\n",
    "\n",
    "## Instructions\n",
    "\n",
    "Use the _print_ function to print out the _string_ `\"Good evening\"`.\n",
    "\n",
    "## Hint\n",
    "\n",
    "Just print out the string 'Good evening'."
   ]
  },
  {
   "cell_type": "code",
   "execution_count": null,
   "metadata": {
    "collapsed": true
   },
   "outputs": [],
   "source": [
    "## Display\n",
    "\n",
    "# We can print out values and variables.\n",
    "print(5)\n",
    "a = 5\n",
    "print(a)\n",
    "print(\"Hello.\\nGoodbye.\")\n",
    "\n",
    "## Answer\n",
    "\n",
    "# We can use \"Check val\" to ensure that certain strings are present in the output.\n",
    "print(\"Good evening\")\n",
    "\n",
    "## Check val\n",
    "\n",
    "\"Good evening\""
   ]
  },
  {
   "cell_type": "markdown",
   "metadata": {},
   "source": [
    "<!--- type=\"text\" --->\n",
    "\n",
    "# Explanation text\n",
    "\n",
    "Sometimes you just want to explain a concept, without having to also attach some code.  Text screen enable you to do this.  This text will be shown to the student in a separate screen."
   ]
  },
  {
   "cell_type": "markdown",
   "metadata": {},
   "source": [
    "<!--- type=\"code\" --->\n",
    "\n",
    "# Code without an answer\n",
    "\n",
    "You can also define code sections that don't have an associated answer.  Students will be able to run the code, and modify it, but it won't be checked for correctness.  This is good for demonstrating a concept.\n",
    "\n",
    "This type of screen doesn't need instructions or a hint."
   ]
  },
  {
   "cell_type": "code",
   "execution_count": null,
   "metadata": {
    "collapsed": true
   },
   "outputs": [],
   "source": [
    "# This is a demo screen.\n",
    "print(\"Here's how to print\")\n",
    "a = 10"
   ]
  }
 ],
 "metadata": {
  "kernelspec": {
   "display_name": "Python 3",
   "language": "python",
   "name": "python3"
  },
  "language_info": {
   "codemirror_mode": {
    "name": "ipython",
    "version": 3
   },
   "file_extension": ".py",
   "mimetype": "text/x-python",
   "name": "python",
   "nbconvert_exporter": "python",
   "pygments_lexer": "ipython3",
   "version": "3.4.2"
  }
 },
 "nbformat": 4,
 "nbformat_minor": 0
}
